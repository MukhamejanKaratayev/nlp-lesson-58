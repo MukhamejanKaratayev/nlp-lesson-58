{
  "cells": [
    {
      "cell_type": "code",
      "execution_count": 1,
      "metadata": {
        "colab": {},
        "colab_type": "code",
        "id": "7PGua73JYAOe"
      },
      "outputs": [],
      "source": [
        "import pandas as pd\n",
        "import numpy as np"
      ]
    },
    {
      "cell_type": "code",
      "execution_count": 2,
      "metadata": {
        "colab": {},
        "colab_type": "code",
        "id": "O9xy-C-zZ4uB"
      },
      "outputs": [],
      "source": [
        "movie_metadata = pd.read_csv('movie_metadata.tsv', sep='\\t', header=None)"
      ]
    },
    {
      "cell_type": "code",
      "execution_count": 4,
      "metadata": {},
      "outputs": [
        {
          "data": {
            "text/html": [
              "<div>\n",
              "<style scoped>\n",
              "    .dataframe tbody tr th:only-of-type {\n",
              "        vertical-align: middle;\n",
              "    }\n",
              "\n",
              "    .dataframe tbody tr th {\n",
              "        vertical-align: top;\n",
              "    }\n",
              "\n",
              "    .dataframe thead th {\n",
              "        text-align: right;\n",
              "    }\n",
              "</style>\n",
              "<table border=\"1\" class=\"dataframe\">\n",
              "  <thead>\n",
              "    <tr style=\"text-align: right;\">\n",
              "      <th></th>\n",
              "      <th>0</th>\n",
              "      <th>1</th>\n",
              "      <th>2</th>\n",
              "      <th>3</th>\n",
              "      <th>4</th>\n",
              "      <th>5</th>\n",
              "      <th>6</th>\n",
              "      <th>7</th>\n",
              "      <th>8</th>\n",
              "    </tr>\n",
              "  </thead>\n",
              "  <tbody>\n",
              "    <tr>\n",
              "      <th>0</th>\n",
              "      <td>975900</td>\n",
              "      <td>/m/03vyhn</td>\n",
              "      <td>Ghosts of Mars</td>\n",
              "      <td>2001-08-24</td>\n",
              "      <td>14010832.0</td>\n",
              "      <td>98.0</td>\n",
              "      <td>{\"/m/02h40lc\": \"English Language\"}</td>\n",
              "      <td>{\"/m/09c7w0\": \"United States of America\"}</td>\n",
              "      <td>{\"/m/01jfsb\": \"Thriller\", \"/m/06n90\": \"Science...</td>\n",
              "    </tr>\n",
              "    <tr>\n",
              "      <th>1</th>\n",
              "      <td>3196793</td>\n",
              "      <td>/m/08yl5d</td>\n",
              "      <td>Getting Away with Murder: The JonBenét Ramsey ...</td>\n",
              "      <td>2000-02-16</td>\n",
              "      <td>NaN</td>\n",
              "      <td>95.0</td>\n",
              "      <td>{\"/m/02h40lc\": \"English Language\"}</td>\n",
              "      <td>{\"/m/09c7w0\": \"United States of America\"}</td>\n",
              "      <td>{\"/m/02n4kr\": \"Mystery\", \"/m/03bxz7\": \"Biograp...</td>\n",
              "    </tr>\n",
              "    <tr>\n",
              "      <th>2</th>\n",
              "      <td>28463795</td>\n",
              "      <td>/m/0crgdbh</td>\n",
              "      <td>Brun bitter</td>\n",
              "      <td>1988</td>\n",
              "      <td>NaN</td>\n",
              "      <td>83.0</td>\n",
              "      <td>{\"/m/05f_3\": \"Norwegian Language\"}</td>\n",
              "      <td>{\"/m/05b4w\": \"Norway\"}</td>\n",
              "      <td>{\"/m/0lsxr\": \"Crime Fiction\", \"/m/07s9rl0\": \"D...</td>\n",
              "    </tr>\n",
              "    <tr>\n",
              "      <th>3</th>\n",
              "      <td>9363483</td>\n",
              "      <td>/m/0285_cd</td>\n",
              "      <td>White Of The Eye</td>\n",
              "      <td>1987</td>\n",
              "      <td>NaN</td>\n",
              "      <td>110.0</td>\n",
              "      <td>{\"/m/02h40lc\": \"English Language\"}</td>\n",
              "      <td>{\"/m/07ssc\": \"United Kingdom\"}</td>\n",
              "      <td>{\"/m/01jfsb\": \"Thriller\", \"/m/0glj9q\": \"Erotic...</td>\n",
              "    </tr>\n",
              "    <tr>\n",
              "      <th>4</th>\n",
              "      <td>261236</td>\n",
              "      <td>/m/01mrr1</td>\n",
              "      <td>A Woman in Flames</td>\n",
              "      <td>1983</td>\n",
              "      <td>NaN</td>\n",
              "      <td>106.0</td>\n",
              "      <td>{\"/m/04306rv\": \"German Language\"}</td>\n",
              "      <td>{\"/m/0345h\": \"Germany\"}</td>\n",
              "      <td>{\"/m/07s9rl0\": \"Drama\"}</td>\n",
              "    </tr>\n",
              "    <tr>\n",
              "      <th>...</th>\n",
              "      <td>...</td>\n",
              "      <td>...</td>\n",
              "      <td>...</td>\n",
              "      <td>...</td>\n",
              "      <td>...</td>\n",
              "      <td>...</td>\n",
              "      <td>...</td>\n",
              "      <td>...</td>\n",
              "      <td>...</td>\n",
              "    </tr>\n",
              "    <tr>\n",
              "      <th>81736</th>\n",
              "      <td>35228177</td>\n",
              "      <td>/m/0j7hxnt</td>\n",
              "      <td>Mermaids: The Body Found</td>\n",
              "      <td>2011-03-19</td>\n",
              "      <td>NaN</td>\n",
              "      <td>120.0</td>\n",
              "      <td>{\"/m/02h40lc\": \"English Language\"}</td>\n",
              "      <td>{\"/m/09c7w0\": \"United States of America\"}</td>\n",
              "      <td>{\"/m/07s9rl0\": \"Drama\"}</td>\n",
              "    </tr>\n",
              "    <tr>\n",
              "      <th>81737</th>\n",
              "      <td>34980460</td>\n",
              "      <td>/m/0g4pl34</td>\n",
              "      <td>Knuckle</td>\n",
              "      <td>2011-01-21</td>\n",
              "      <td>NaN</td>\n",
              "      <td>96.0</td>\n",
              "      <td>{\"/m/02h40lc\": \"English Language\"}</td>\n",
              "      <td>{\"/m/03rt9\": \"Ireland\", \"/m/07ssc\": \"United Ki...</td>\n",
              "      <td>{\"/m/03bxz7\": \"Biographical film\", \"/m/07s9rl0...</td>\n",
              "    </tr>\n",
              "    <tr>\n",
              "      <th>81738</th>\n",
              "      <td>9971909</td>\n",
              "      <td>/m/02pygw1</td>\n",
              "      <td>Another Nice Mess</td>\n",
              "      <td>1972-09-22</td>\n",
              "      <td>NaN</td>\n",
              "      <td>66.0</td>\n",
              "      <td>{\"/m/02h40lc\": \"English Language\"}</td>\n",
              "      <td>{\"/m/09c7w0\": \"United States of America\"}</td>\n",
              "      <td>{\"/m/06nbt\": \"Satire\", \"/m/01z4y\": \"Comedy\"}</td>\n",
              "    </tr>\n",
              "    <tr>\n",
              "      <th>81739</th>\n",
              "      <td>913762</td>\n",
              "      <td>/m/03pcrp</td>\n",
              "      <td>The Super Dimension Fortress Macross II: Lover...</td>\n",
              "      <td>1992-05-21</td>\n",
              "      <td>NaN</td>\n",
              "      <td>150.0</td>\n",
              "      <td>{\"/m/03_9r\": \"Japanese Language\"}</td>\n",
              "      <td>{\"/m/03_3d\": \"Japan\"}</td>\n",
              "      <td>{\"/m/06n90\": \"Science Fiction\", \"/m/0gw5n2f\": ...</td>\n",
              "    </tr>\n",
              "    <tr>\n",
              "      <th>81740</th>\n",
              "      <td>12476867</td>\n",
              "      <td>/m/02w7zz8</td>\n",
              "      <td>Spliced</td>\n",
              "      <td>2002</td>\n",
              "      <td>NaN</td>\n",
              "      <td>86.0</td>\n",
              "      <td>{\"/m/02h40lc\": \"English Language\"}</td>\n",
              "      <td>{\"/m/0d060g\": \"Canada\"}</td>\n",
              "      <td>{\"/m/01jfsb\": \"Thriller\", \"/m/03npn\": \"Horror\"...</td>\n",
              "    </tr>\n",
              "  </tbody>\n",
              "</table>\n",
              "<p>81741 rows × 9 columns</p>\n",
              "</div>"
            ],
            "text/plain": [
              "              0           1  \\\n",
              "0        975900   /m/03vyhn   \n",
              "1       3196793   /m/08yl5d   \n",
              "2      28463795  /m/0crgdbh   \n",
              "3       9363483  /m/0285_cd   \n",
              "4        261236   /m/01mrr1   \n",
              "...         ...         ...   \n",
              "81736  35228177  /m/0j7hxnt   \n",
              "81737  34980460  /m/0g4pl34   \n",
              "81738   9971909  /m/02pygw1   \n",
              "81739    913762   /m/03pcrp   \n",
              "81740  12476867  /m/02w7zz8   \n",
              "\n",
              "                                                       2           3  \\\n",
              "0                                         Ghosts of Mars  2001-08-24   \n",
              "1      Getting Away with Murder: The JonBenét Ramsey ...  2000-02-16   \n",
              "2                                            Brun bitter        1988   \n",
              "3                                       White Of The Eye        1987   \n",
              "4                                      A Woman in Flames        1983   \n",
              "...                                                  ...         ...   \n",
              "81736                           Mermaids: The Body Found  2011-03-19   \n",
              "81737                                            Knuckle  2011-01-21   \n",
              "81738                                  Another Nice Mess  1972-09-22   \n",
              "81739  The Super Dimension Fortress Macross II: Lover...  1992-05-21   \n",
              "81740                                            Spliced        2002   \n",
              "\n",
              "                4      5                                   6  \\\n",
              "0      14010832.0   98.0  {\"/m/02h40lc\": \"English Language\"}   \n",
              "1             NaN   95.0  {\"/m/02h40lc\": \"English Language\"}   \n",
              "2             NaN   83.0  {\"/m/05f_3\": \"Norwegian Language\"}   \n",
              "3             NaN  110.0  {\"/m/02h40lc\": \"English Language\"}   \n",
              "4             NaN  106.0   {\"/m/04306rv\": \"German Language\"}   \n",
              "...           ...    ...                                 ...   \n",
              "81736         NaN  120.0  {\"/m/02h40lc\": \"English Language\"}   \n",
              "81737         NaN   96.0  {\"/m/02h40lc\": \"English Language\"}   \n",
              "81738         NaN   66.0  {\"/m/02h40lc\": \"English Language\"}   \n",
              "81739         NaN  150.0   {\"/m/03_9r\": \"Japanese Language\"}   \n",
              "81740         NaN   86.0  {\"/m/02h40lc\": \"English Language\"}   \n",
              "\n",
              "                                                       7  \\\n",
              "0              {\"/m/09c7w0\": \"United States of America\"}   \n",
              "1              {\"/m/09c7w0\": \"United States of America\"}   \n",
              "2                                 {\"/m/05b4w\": \"Norway\"}   \n",
              "3                         {\"/m/07ssc\": \"United Kingdom\"}   \n",
              "4                                {\"/m/0345h\": \"Germany\"}   \n",
              "...                                                  ...   \n",
              "81736          {\"/m/09c7w0\": \"United States of America\"}   \n",
              "81737  {\"/m/03rt9\": \"Ireland\", \"/m/07ssc\": \"United Ki...   \n",
              "81738          {\"/m/09c7w0\": \"United States of America\"}   \n",
              "81739                              {\"/m/03_3d\": \"Japan\"}   \n",
              "81740                            {\"/m/0d060g\": \"Canada\"}   \n",
              "\n",
              "                                                       8  \n",
              "0      {\"/m/01jfsb\": \"Thriller\", \"/m/06n90\": \"Science...  \n",
              "1      {\"/m/02n4kr\": \"Mystery\", \"/m/03bxz7\": \"Biograp...  \n",
              "2      {\"/m/0lsxr\": \"Crime Fiction\", \"/m/07s9rl0\": \"D...  \n",
              "3      {\"/m/01jfsb\": \"Thriller\", \"/m/0glj9q\": \"Erotic...  \n",
              "4                                {\"/m/07s9rl0\": \"Drama\"}  \n",
              "...                                                  ...  \n",
              "81736                            {\"/m/07s9rl0\": \"Drama\"}  \n",
              "81737  {\"/m/03bxz7\": \"Biographical film\", \"/m/07s9rl0...  \n",
              "81738       {\"/m/06nbt\": \"Satire\", \"/m/01z4y\": \"Comedy\"}  \n",
              "81739  {\"/m/06n90\": \"Science Fiction\", \"/m/0gw5n2f\": ...  \n",
              "81740  {\"/m/01jfsb\": \"Thriller\", \"/m/03npn\": \"Horror\"...  \n",
              "\n",
              "[81741 rows x 9 columns]"
            ]
          },
          "execution_count": 4,
          "metadata": {},
          "output_type": "execute_result"
        }
      ],
      "source": [
        "movie_metadata"
      ]
    },
    {
      "cell_type": "code",
      "execution_count": 3,
      "metadata": {
        "colab": {},
        "colab_type": "code",
        "id": "IbE4YSIwidBD"
      },
      "outputs": [],
      "source": [
        "plot_summary = pd.read_csv('plot_summaries.tsv', sep='\\t', header=None)"
      ]
    },
    {
      "cell_type": "code",
      "execution_count": 5,
      "metadata": {},
      "outputs": [
        {
          "data": {
            "text/html": [
              "<div>\n",
              "<style scoped>\n",
              "    .dataframe tbody tr th:only-of-type {\n",
              "        vertical-align: middle;\n",
              "    }\n",
              "\n",
              "    .dataframe tbody tr th {\n",
              "        vertical-align: top;\n",
              "    }\n",
              "\n",
              "    .dataframe thead th {\n",
              "        text-align: right;\n",
              "    }\n",
              "</style>\n",
              "<table border=\"1\" class=\"dataframe\">\n",
              "  <thead>\n",
              "    <tr style=\"text-align: right;\">\n",
              "      <th></th>\n",
              "      <th>0</th>\n",
              "      <th>1</th>\n",
              "    </tr>\n",
              "  </thead>\n",
              "  <tbody>\n",
              "    <tr>\n",
              "      <th>0</th>\n",
              "      <td>23890098</td>\n",
              "      <td>Shlykov, a hard-working taxi driver and Lyosha...</td>\n",
              "    </tr>\n",
              "    <tr>\n",
              "      <th>1</th>\n",
              "      <td>31186339</td>\n",
              "      <td>The nation of Panem consists of a wealthy Capi...</td>\n",
              "    </tr>\n",
              "    <tr>\n",
              "      <th>2</th>\n",
              "      <td>20663735</td>\n",
              "      <td>Poovalli Induchoodan  is sentenced for six yea...</td>\n",
              "    </tr>\n",
              "    <tr>\n",
              "      <th>3</th>\n",
              "      <td>2231378</td>\n",
              "      <td>The Lemon Drop Kid , a New York City swindler,...</td>\n",
              "    </tr>\n",
              "    <tr>\n",
              "      <th>4</th>\n",
              "      <td>595909</td>\n",
              "      <td>Seventh-day Adventist Church pastor Michael Ch...</td>\n",
              "    </tr>\n",
              "    <tr>\n",
              "      <th>...</th>\n",
              "      <td>...</td>\n",
              "      <td>...</td>\n",
              "    </tr>\n",
              "    <tr>\n",
              "      <th>42298</th>\n",
              "      <td>34808485</td>\n",
              "      <td>The story is about Reema , a young Muslim scho...</td>\n",
              "    </tr>\n",
              "    <tr>\n",
              "      <th>42299</th>\n",
              "      <td>1096473</td>\n",
              "      <td>In 1928 Hollywood, director Leo Andreyev  look...</td>\n",
              "    </tr>\n",
              "    <tr>\n",
              "      <th>42300</th>\n",
              "      <td>35102018</td>\n",
              "      <td>American Luthier focuses on Randy Parsons’ tra...</td>\n",
              "    </tr>\n",
              "    <tr>\n",
              "      <th>42301</th>\n",
              "      <td>8628195</td>\n",
              "      <td>Abdur Rehman Khan , a middle-aged dry fruit se...</td>\n",
              "    </tr>\n",
              "    <tr>\n",
              "      <th>42302</th>\n",
              "      <td>6040782</td>\n",
              "      <td>1940 - Operation Dynamo has just taken place. ...</td>\n",
              "    </tr>\n",
              "  </tbody>\n",
              "</table>\n",
              "<p>42303 rows × 2 columns</p>\n",
              "</div>"
            ],
            "text/plain": [
              "              0                                                  1\n",
              "0      23890098  Shlykov, a hard-working taxi driver and Lyosha...\n",
              "1      31186339  The nation of Panem consists of a wealthy Capi...\n",
              "2      20663735  Poovalli Induchoodan  is sentenced for six yea...\n",
              "3       2231378  The Lemon Drop Kid , a New York City swindler,...\n",
              "4        595909  Seventh-day Adventist Church pastor Michael Ch...\n",
              "...         ...                                                ...\n",
              "42298  34808485  The story is about Reema , a young Muslim scho...\n",
              "42299   1096473  In 1928 Hollywood, director Leo Andreyev  look...\n",
              "42300  35102018  American Luthier focuses on Randy Parsons’ tra...\n",
              "42301   8628195  Abdur Rehman Khan , a middle-aged dry fruit se...\n",
              "42302   6040782  1940 - Operation Dynamo has just taken place. ...\n",
              "\n",
              "[42303 rows x 2 columns]"
            ]
          },
          "execution_count": 5,
          "metadata": {},
          "output_type": "execute_result"
        }
      ],
      "source": [
        "plot_summary"
      ]
    },
    {
      "cell_type": "markdown",
      "metadata": {
        "colab_type": "text",
        "id": "qI_xIrnjjQo2"
      },
      "source": [
        "## **Exploring the dataset**"
      ]
    },
    {
      "cell_type": "code",
      "execution_count": 6,
      "metadata": {
        "colab": {
          "base_uri": "https://localhost:8080/",
          "height": 314
        },
        "colab_type": "code",
        "id": "trmFbu9Mabuq",
        "outputId": "e14a3dac-5f81-40d1-aed9-46021a910b04"
      },
      "outputs": [
        {
          "data": {
            "text/html": [
              "<div>\n",
              "<style scoped>\n",
              "    .dataframe tbody tr th:only-of-type {\n",
              "        vertical-align: middle;\n",
              "    }\n",
              "\n",
              "    .dataframe tbody tr th {\n",
              "        vertical-align: top;\n",
              "    }\n",
              "\n",
              "    .dataframe thead th {\n",
              "        text-align: right;\n",
              "    }\n",
              "</style>\n",
              "<table border=\"1\" class=\"dataframe\">\n",
              "  <thead>\n",
              "    <tr style=\"text-align: right;\">\n",
              "      <th></th>\n",
              "      <th>0</th>\n",
              "      <th>1</th>\n",
              "      <th>2</th>\n",
              "      <th>3</th>\n",
              "      <th>4</th>\n",
              "      <th>5</th>\n",
              "      <th>6</th>\n",
              "      <th>7</th>\n",
              "      <th>8</th>\n",
              "    </tr>\n",
              "  </thead>\n",
              "  <tbody>\n",
              "    <tr>\n",
              "      <th>0</th>\n",
              "      <td>975900</td>\n",
              "      <td>/m/03vyhn</td>\n",
              "      <td>Ghosts of Mars</td>\n",
              "      <td>2001-08-24</td>\n",
              "      <td>14010832.0</td>\n",
              "      <td>98.0</td>\n",
              "      <td>{\"/m/02h40lc\": \"English Language\"}</td>\n",
              "      <td>{\"/m/09c7w0\": \"United States of America\"}</td>\n",
              "      <td>{\"/m/01jfsb\": \"Thriller\", \"/m/06n90\": \"Science...</td>\n",
              "    </tr>\n",
              "    <tr>\n",
              "      <th>1</th>\n",
              "      <td>3196793</td>\n",
              "      <td>/m/08yl5d</td>\n",
              "      <td>Getting Away with Murder: The JonBenét Ramsey ...</td>\n",
              "      <td>2000-02-16</td>\n",
              "      <td>NaN</td>\n",
              "      <td>95.0</td>\n",
              "      <td>{\"/m/02h40lc\": \"English Language\"}</td>\n",
              "      <td>{\"/m/09c7w0\": \"United States of America\"}</td>\n",
              "      <td>{\"/m/02n4kr\": \"Mystery\", \"/m/03bxz7\": \"Biograp...</td>\n",
              "    </tr>\n",
              "    <tr>\n",
              "      <th>2</th>\n",
              "      <td>28463795</td>\n",
              "      <td>/m/0crgdbh</td>\n",
              "      <td>Brun bitter</td>\n",
              "      <td>1988</td>\n",
              "      <td>NaN</td>\n",
              "      <td>83.0</td>\n",
              "      <td>{\"/m/05f_3\": \"Norwegian Language\"}</td>\n",
              "      <td>{\"/m/05b4w\": \"Norway\"}</td>\n",
              "      <td>{\"/m/0lsxr\": \"Crime Fiction\", \"/m/07s9rl0\": \"D...</td>\n",
              "    </tr>\n",
              "    <tr>\n",
              "      <th>3</th>\n",
              "      <td>9363483</td>\n",
              "      <td>/m/0285_cd</td>\n",
              "      <td>White Of The Eye</td>\n",
              "      <td>1987</td>\n",
              "      <td>NaN</td>\n",
              "      <td>110.0</td>\n",
              "      <td>{\"/m/02h40lc\": \"English Language\"}</td>\n",
              "      <td>{\"/m/07ssc\": \"United Kingdom\"}</td>\n",
              "      <td>{\"/m/01jfsb\": \"Thriller\", \"/m/0glj9q\": \"Erotic...</td>\n",
              "    </tr>\n",
              "    <tr>\n",
              "      <th>4</th>\n",
              "      <td>261236</td>\n",
              "      <td>/m/01mrr1</td>\n",
              "      <td>A Woman in Flames</td>\n",
              "      <td>1983</td>\n",
              "      <td>NaN</td>\n",
              "      <td>106.0</td>\n",
              "      <td>{\"/m/04306rv\": \"German Language\"}</td>\n",
              "      <td>{\"/m/0345h\": \"Germany\"}</td>\n",
              "      <td>{\"/m/07s9rl0\": \"Drama\"}</td>\n",
              "    </tr>\n",
              "  </tbody>\n",
              "</table>\n",
              "</div>"
            ],
            "text/plain": [
              "          0           1                                                  2  \\\n",
              "0    975900   /m/03vyhn                                     Ghosts of Mars   \n",
              "1   3196793   /m/08yl5d  Getting Away with Murder: The JonBenét Ramsey ...   \n",
              "2  28463795  /m/0crgdbh                                        Brun bitter   \n",
              "3   9363483  /m/0285_cd                                   White Of The Eye   \n",
              "4    261236   /m/01mrr1                                  A Woman in Flames   \n",
              "\n",
              "            3           4      5                                   6  \\\n",
              "0  2001-08-24  14010832.0   98.0  {\"/m/02h40lc\": \"English Language\"}   \n",
              "1  2000-02-16         NaN   95.0  {\"/m/02h40lc\": \"English Language\"}   \n",
              "2        1988         NaN   83.0  {\"/m/05f_3\": \"Norwegian Language\"}   \n",
              "3        1987         NaN  110.0  {\"/m/02h40lc\": \"English Language\"}   \n",
              "4        1983         NaN  106.0   {\"/m/04306rv\": \"German Language\"}   \n",
              "\n",
              "                                           7  \\\n",
              "0  {\"/m/09c7w0\": \"United States of America\"}   \n",
              "1  {\"/m/09c7w0\": \"United States of America\"}   \n",
              "2                     {\"/m/05b4w\": \"Norway\"}   \n",
              "3             {\"/m/07ssc\": \"United Kingdom\"}   \n",
              "4                    {\"/m/0345h\": \"Germany\"}   \n",
              "\n",
              "                                                   8  \n",
              "0  {\"/m/01jfsb\": \"Thriller\", \"/m/06n90\": \"Science...  \n",
              "1  {\"/m/02n4kr\": \"Mystery\", \"/m/03bxz7\": \"Biograp...  \n",
              "2  {\"/m/0lsxr\": \"Crime Fiction\", \"/m/07s9rl0\": \"D...  \n",
              "3  {\"/m/01jfsb\": \"Thriller\", \"/m/0glj9q\": \"Erotic...  \n",
              "4                            {\"/m/07s9rl0\": \"Drama\"}  "
            ]
          },
          "execution_count": 6,
          "metadata": {},
          "output_type": "execute_result"
        }
      ],
      "source": [
        "movie_metadata.head()"
      ]
    },
    {
      "cell_type": "code",
      "execution_count": 7,
      "metadata": {
        "colab": {
          "base_uri": "https://localhost:8080/",
          "height": 34
        },
        "colab_type": "code",
        "id": "FvOs2Y9yjXbM",
        "outputId": "8ecefa63-25e3-42d6-9f02-bb7482a30a00"
      },
      "outputs": [
        {
          "data": {
            "text/plain": [
              "(81741, 9)"
            ]
          },
          "execution_count": 7,
          "metadata": {},
          "output_type": "execute_result"
        }
      ],
      "source": [
        "movie_metadata.shape"
      ]
    },
    {
      "cell_type": "code",
      "execution_count": 8,
      "metadata": {
        "colab": {
          "base_uri": "https://localhost:8080/",
          "height": 194
        },
        "colab_type": "code",
        "id": "Pp5u_pmekiTn",
        "outputId": "ac85d460-f201-4413-c436-3d965ec508ef"
      },
      "outputs": [
        {
          "data": {
            "text/plain": [
              "0      int64\n",
              "1     object\n",
              "2     object\n",
              "3     object\n",
              "4    float64\n",
              "5    float64\n",
              "6     object\n",
              "7     object\n",
              "8     object\n",
              "dtype: object"
            ]
          },
          "execution_count": 8,
          "metadata": {},
          "output_type": "execute_result"
        }
      ],
      "source": [
        "movie_metadata.dtypes"
      ]
    },
    {
      "cell_type": "code",
      "execution_count": 10,
      "metadata": {
        "colab": {
          "base_uri": "https://localhost:8080/",
          "height": 197
        },
        "colab_type": "code",
        "id": "pfAaxRcKi3s3",
        "outputId": "298ba8bf-b2b3-4939-a67e-bab995b506da"
      },
      "outputs": [
        {
          "data": {
            "text/html": [
              "<div>\n",
              "<style scoped>\n",
              "    .dataframe tbody tr th:only-of-type {\n",
              "        vertical-align: middle;\n",
              "    }\n",
              "\n",
              "    .dataframe tbody tr th {\n",
              "        vertical-align: top;\n",
              "    }\n",
              "\n",
              "    .dataframe thead th {\n",
              "        text-align: right;\n",
              "    }\n",
              "</style>\n",
              "<table border=\"1\" class=\"dataframe\">\n",
              "  <thead>\n",
              "    <tr style=\"text-align: right;\">\n",
              "      <th></th>\n",
              "      <th>0</th>\n",
              "      <th>1</th>\n",
              "    </tr>\n",
              "  </thead>\n",
              "  <tbody>\n",
              "    <tr>\n",
              "      <th>0</th>\n",
              "      <td>23890098</td>\n",
              "      <td>Shlykov, a hard-working taxi driver and Lyosha...</td>\n",
              "    </tr>\n",
              "    <tr>\n",
              "      <th>1</th>\n",
              "      <td>31186339</td>\n",
              "      <td>The nation of Panem consists of a wealthy Capi...</td>\n",
              "    </tr>\n",
              "    <tr>\n",
              "      <th>2</th>\n",
              "      <td>20663735</td>\n",
              "      <td>Poovalli Induchoodan  is sentenced for six yea...</td>\n",
              "    </tr>\n",
              "    <tr>\n",
              "      <th>3</th>\n",
              "      <td>2231378</td>\n",
              "      <td>The Lemon Drop Kid , a New York City swindler,...</td>\n",
              "    </tr>\n",
              "    <tr>\n",
              "      <th>4</th>\n",
              "      <td>595909</td>\n",
              "      <td>Seventh-day Adventist Church pastor Michael Ch...</td>\n",
              "    </tr>\n",
              "  </tbody>\n",
              "</table>\n",
              "</div>"
            ],
            "text/plain": [
              "          0                                                  1\n",
              "0  23890098  Shlykov, a hard-working taxi driver and Lyosha...\n",
              "1  31186339  The nation of Panem consists of a wealthy Capi...\n",
              "2  20663735  Poovalli Induchoodan  is sentenced for six yea...\n",
              "3   2231378  The Lemon Drop Kid , a New York City swindler,...\n",
              "4    595909  Seventh-day Adventist Church pastor Michael Ch..."
            ]
          },
          "execution_count": 10,
          "metadata": {},
          "output_type": "execute_result"
        }
      ],
      "source": [
        "plot_summary.head()"
      ]
    },
    {
      "cell_type": "code",
      "execution_count": 18,
      "metadata": {},
      "outputs": [
        {
          "data": {
            "text/plain": [
              "(42303, 2)"
            ]
          },
          "execution_count": 18,
          "metadata": {},
          "output_type": "execute_result"
        }
      ],
      "source": [
        "plot_summary.shape"
      ]
    },
    {
      "cell_type": "code",
      "execution_count": 11,
      "metadata": {
        "colab": {
          "base_uri": "https://localhost:8080/",
          "height": 34
        },
        "colab_type": "code",
        "id": "RqcrP42jjefG",
        "outputId": "b903fe70-5296-4f08-9a6d-2e1109c5003a"
      },
      "outputs": [
        {
          "data": {
            "text/plain": [
              "(42303, 2)"
            ]
          },
          "execution_count": 11,
          "metadata": {},
          "output_type": "execute_result"
        }
      ],
      "source": [
        "plot_summary.shape"
      ]
    },
    {
      "cell_type": "code",
      "execution_count": 12,
      "metadata": {
        "colab": {
          "base_uri": "https://localhost:8080/",
          "height": 70
        },
        "colab_type": "code",
        "id": "KmsY8SPBkbl4",
        "outputId": "f8cd5fb8-03f3-4dfc-ce14-76e5453da330"
      },
      "outputs": [
        {
          "data": {
            "text/plain": [
              "0     int64\n",
              "1    object\n",
              "dtype: object"
            ]
          },
          "execution_count": 12,
          "metadata": {},
          "output_type": "execute_result"
        }
      ],
      "source": [
        "plot_summary.dtypes"
      ]
    },
    {
      "cell_type": "markdown",
      "metadata": {
        "colab_type": "text",
        "id": "-E0x4o0zbCva"
      },
      "source": [
        "## **Data Cleaning**\n",
        "* Переименование необходимых столбцов из таблиц 'movie_metadata' и 'plot_summary'\n",
        "* Объединение таблиц 'movie_metadata' и 'plot_summary' в одну\n",
        "* Очистка столбца 'genre'\n",
        "* Удаление строк с 0 тегами жанра"
      ]
    },
    {
      "cell_type": "code",
      "execution_count": 13,
      "metadata": {
        "colab": {},
        "colab_type": "code",
        "id": "2v4EtPZTaeGI"
      },
      "outputs": [],
      "source": [
        "movie_metadata.columns = [\"movie_id\", 1, \"movie_name\", 3, 4, 5, 6, 7, \"genre\"]"
      ]
    },
    {
      "cell_type": "code",
      "execution_count": 15,
      "metadata": {
        "colab": {},
        "colab_type": "code",
        "id": "IAmDs-oPa4pA"
      },
      "outputs": [],
      "source": [
        "plot_summary.columns = [\"movie_id\", \"plot\"]"
      ]
    },
    {
      "cell_type": "code",
      "execution_count": 16,
      "metadata": {
        "colab": {},
        "colab_type": "code",
        "id": "pCRCB3ZklWOX"
      },
      "outputs": [],
      "source": [
        "df = pd.merge(movie_metadata[['movie_id', 'movie_name', 'genre']], plot_summary, on='movie_id')"
      ]
    },
    {
      "cell_type": "code",
      "execution_count": 17,
      "metadata": {
        "colab": {
          "base_uri": "https://localhost:8080/",
          "height": 34
        },
        "colab_type": "code",
        "id": "fcFrmzqtmdOo",
        "outputId": "4a0ad768-f4f6-494c-93cf-f39a6d8f03a6"
      },
      "outputs": [
        {
          "data": {
            "text/plain": [
              "(42204, 4)"
            ]
          },
          "execution_count": 17,
          "metadata": {},
          "output_type": "execute_result"
        }
      ],
      "source": [
        "df.shape"
      ]
    },
    {
      "cell_type": "code",
      "execution_count": 19,
      "metadata": {
        "colab": {
          "base_uri": "https://localhost:8080/",
          "height": 197
        },
        "colab_type": "code",
        "id": "07QSDV9nmeM2",
        "outputId": "23fc5ff5-5b09-488b-876e-dcf1b93afa70"
      },
      "outputs": [
        {
          "data": {
            "text/html": [
              "<div>\n",
              "<style scoped>\n",
              "    .dataframe tbody tr th:only-of-type {\n",
              "        vertical-align: middle;\n",
              "    }\n",
              "\n",
              "    .dataframe tbody tr th {\n",
              "        vertical-align: top;\n",
              "    }\n",
              "\n",
              "    .dataframe thead th {\n",
              "        text-align: right;\n",
              "    }\n",
              "</style>\n",
              "<table border=\"1\" class=\"dataframe\">\n",
              "  <thead>\n",
              "    <tr style=\"text-align: right;\">\n",
              "      <th></th>\n",
              "      <th>movie_id</th>\n",
              "      <th>movie_name</th>\n",
              "      <th>genre</th>\n",
              "      <th>plot</th>\n",
              "    </tr>\n",
              "  </thead>\n",
              "  <tbody>\n",
              "    <tr>\n",
              "      <th>0</th>\n",
              "      <td>975900</td>\n",
              "      <td>Ghosts of Mars</td>\n",
              "      <td>{\"/m/01jfsb\": \"Thriller\", \"/m/06n90\": \"Science...</td>\n",
              "      <td>Set in the second half of the 22nd century, th...</td>\n",
              "    </tr>\n",
              "    <tr>\n",
              "      <th>1</th>\n",
              "      <td>9363483</td>\n",
              "      <td>White Of The Eye</td>\n",
              "      <td>{\"/m/01jfsb\": \"Thriller\", \"/m/0glj9q\": \"Erotic...</td>\n",
              "      <td>A series of murders of rich young women throug...</td>\n",
              "    </tr>\n",
              "    <tr>\n",
              "      <th>2</th>\n",
              "      <td>261236</td>\n",
              "      <td>A Woman in Flames</td>\n",
              "      <td>{\"/m/07s9rl0\": \"Drama\"}</td>\n",
              "      <td>Eva, an upper class housewife, becomes frustra...</td>\n",
              "    </tr>\n",
              "    <tr>\n",
              "      <th>3</th>\n",
              "      <td>18998739</td>\n",
              "      <td>The Sorcerer's Apprentice</td>\n",
              "      <td>{\"/m/0hqxf\": \"Family Film\", \"/m/01hmnh\": \"Fant...</td>\n",
              "      <td>Every hundred years, the evil Morgana  returns...</td>\n",
              "    </tr>\n",
              "    <tr>\n",
              "      <th>4</th>\n",
              "      <td>6631279</td>\n",
              "      <td>Little city</td>\n",
              "      <td>{\"/m/06cvj\": \"Romantic comedy\", \"/m/0hj3n0w\": ...</td>\n",
              "      <td>Adam, a San Francisco-based artist who works a...</td>\n",
              "    </tr>\n",
              "  </tbody>\n",
              "</table>\n",
              "</div>"
            ],
            "text/plain": [
              "   movie_id                 movie_name  \\\n",
              "0    975900             Ghosts of Mars   \n",
              "1   9363483           White Of The Eye   \n",
              "2    261236          A Woman in Flames   \n",
              "3  18998739  The Sorcerer's Apprentice   \n",
              "4   6631279                Little city   \n",
              "\n",
              "                                               genre  \\\n",
              "0  {\"/m/01jfsb\": \"Thriller\", \"/m/06n90\": \"Science...   \n",
              "1  {\"/m/01jfsb\": \"Thriller\", \"/m/0glj9q\": \"Erotic...   \n",
              "2                            {\"/m/07s9rl0\": \"Drama\"}   \n",
              "3  {\"/m/0hqxf\": \"Family Film\", \"/m/01hmnh\": \"Fant...   \n",
              "4  {\"/m/06cvj\": \"Romantic comedy\", \"/m/0hj3n0w\": ...   \n",
              "\n",
              "                                                plot  \n",
              "0  Set in the second half of the 22nd century, th...  \n",
              "1  A series of murders of rich young women throug...  \n",
              "2  Eva, an upper class housewife, becomes frustra...  \n",
              "3  Every hundred years, the evil Morgana  returns...  \n",
              "4  Adam, a San Francisco-based artist who works a...  "
            ]
          },
          "execution_count": 19,
          "metadata": {},
          "output_type": "execute_result"
        }
      ],
      "source": [
        "df.head()"
      ]
    },
    {
      "cell_type": "code",
      "execution_count": 20,
      "metadata": {
        "colab": {
          "base_uri": "https://localhost:8080/",
          "height": 53
        },
        "colab_type": "code",
        "id": "Na7O9J3bnUw1",
        "outputId": "6fb98357-b5a7-4632-c482-4e3aad1cb229"
      },
      "outputs": [
        {
          "data": {
            "text/plain": [
              "'{\"/m/01jfsb\": \"Thriller\", \"/m/06n90\": \"Science Fiction\", \"/m/03npn\": \"Horror\", \"/m/03k9fj\": \"Adventure\", \"/m/0fdjb\": \"Supernatural\", \"/m/02kdv5l\": \"Action\", \"/m/09zvmj\": \"Space western\"}'"
            ]
          },
          "execution_count": 20,
          "metadata": {},
          "output_type": "execute_result"
        }
      ],
      "source": [
        "df['genre'][0]"
      ]
    },
    {
      "cell_type": "code",
      "execution_count": 21,
      "metadata": {
        "colab": {
          "base_uri": "https://localhost:8080/",
          "height": 34
        },
        "colab_type": "code",
        "id": "x-TOvUcjn6R_",
        "outputId": "896fc606-b705-4f18-d44b-3cd7d4f92f0d"
      },
      "outputs": [
        {
          "data": {
            "text/plain": [
              "dict_values(['Thriller', 'Science Fiction', 'Horror', 'Adventure', 'Supernatural', 'Action', 'Space western'])"
            ]
          },
          "execution_count": 21,
          "metadata": {},
          "output_type": "execute_result"
        }
      ],
      "source": [
        "import json\n",
        "json.loads(df['genre'][0]).values()"
      ]
    },
    {
      "cell_type": "code",
      "execution_count": 22,
      "metadata": {
        "colab": {
          "base_uri": "https://localhost:8080/",
          "height": 197
        },
        "colab_type": "code",
        "id": "ZT-7vVdXoAFG",
        "outputId": "74ca61ef-8a25-4c44-a25b-93652876075d"
      },
      "outputs": [
        {
          "data": {
            "text/html": [
              "<div>\n",
              "<style scoped>\n",
              "    .dataframe tbody tr th:only-of-type {\n",
              "        vertical-align: middle;\n",
              "    }\n",
              "\n",
              "    .dataframe tbody tr th {\n",
              "        vertical-align: top;\n",
              "    }\n",
              "\n",
              "    .dataframe thead th {\n",
              "        text-align: right;\n",
              "    }\n",
              "</style>\n",
              "<table border=\"1\" class=\"dataframe\">\n",
              "  <thead>\n",
              "    <tr style=\"text-align: right;\">\n",
              "      <th></th>\n",
              "      <th>movie_id</th>\n",
              "      <th>movie_name</th>\n",
              "      <th>genre</th>\n",
              "      <th>plot</th>\n",
              "    </tr>\n",
              "  </thead>\n",
              "  <tbody>\n",
              "    <tr>\n",
              "      <th>0</th>\n",
              "      <td>975900</td>\n",
              "      <td>Ghosts of Mars</td>\n",
              "      <td>[Thriller, Science Fiction, Horror, Adventure,...</td>\n",
              "      <td>Set in the second half of the 22nd century, th...</td>\n",
              "    </tr>\n",
              "    <tr>\n",
              "      <th>1</th>\n",
              "      <td>9363483</td>\n",
              "      <td>White Of The Eye</td>\n",
              "      <td>[Thriller, Erotic thriller, Psychological thri...</td>\n",
              "      <td>A series of murders of rich young women throug...</td>\n",
              "    </tr>\n",
              "    <tr>\n",
              "      <th>2</th>\n",
              "      <td>261236</td>\n",
              "      <td>A Woman in Flames</td>\n",
              "      <td>[Drama]</td>\n",
              "      <td>Eva, an upper class housewife, becomes frustra...</td>\n",
              "    </tr>\n",
              "    <tr>\n",
              "      <th>3</th>\n",
              "      <td>18998739</td>\n",
              "      <td>The Sorcerer's Apprentice</td>\n",
              "      <td>[Family Film, Fantasy, Adventure, World cinema]</td>\n",
              "      <td>Every hundred years, the evil Morgana  returns...</td>\n",
              "    </tr>\n",
              "    <tr>\n",
              "      <th>4</th>\n",
              "      <td>6631279</td>\n",
              "      <td>Little city</td>\n",
              "      <td>[Romantic comedy, Ensemble Film, Comedy-drama,...</td>\n",
              "      <td>Adam, a San Francisco-based artist who works a...</td>\n",
              "    </tr>\n",
              "  </tbody>\n",
              "</table>\n",
              "</div>"
            ],
            "text/plain": [
              "   movie_id                 movie_name  \\\n",
              "0    975900             Ghosts of Mars   \n",
              "1   9363483           White Of The Eye   \n",
              "2    261236          A Woman in Flames   \n",
              "3  18998739  The Sorcerer's Apprentice   \n",
              "4   6631279                Little city   \n",
              "\n",
              "                                               genre  \\\n",
              "0  [Thriller, Science Fiction, Horror, Adventure,...   \n",
              "1  [Thriller, Erotic thriller, Psychological thri...   \n",
              "2                                            [Drama]   \n",
              "3    [Family Film, Fantasy, Adventure, World cinema]   \n",
              "4  [Romantic comedy, Ensemble Film, Comedy-drama,...   \n",
              "\n",
              "                                                plot  \n",
              "0  Set in the second half of the 22nd century, th...  \n",
              "1  A series of murders of rich young women throug...  \n",
              "2  Eva, an upper class housewife, becomes frustra...  \n",
              "3  Every hundred years, the evil Morgana  returns...  \n",
              "4  Adam, a San Francisco-based artist who works a...  "
            ]
          },
          "execution_count": 22,
          "metadata": {},
          "output_type": "execute_result"
        }
      ],
      "source": [
        "df['genre'] = df['genre'].apply(lambda x: list(json.loads(x).values()))\n",
        "df.head()"
      ]
    },
    {
      "cell_type": "code",
      "execution_count": 23,
      "metadata": {
        "colab": {
          "base_uri": "https://localhost:8080/",
          "height": 52
        },
        "colab_type": "code",
        "id": "kVfREcm9ojgW",
        "outputId": "3cc56d98-366f-46fb-ba43-f8123b3a9a3b"
      },
      "outputs": [
        {
          "name": "stdout",
          "output_type": "stream",
          "text": [
            "Перед удалением строк: (42204, 4)\n",
            "После удаления строк: (41793, 4)\n"
          ]
        }
      ],
      "source": [
        "print(\"Перед удалением строк: {}\".format(df.shape))\n",
        "df = df[df['genre'].apply(lambda x: False if len(x) == 0 else True)]\n",
        "print(\"После удаления строк: {}\".format(df.shape))"
      ]
    },
    {
      "cell_type": "markdown",
      "metadata": {
        "colab_type": "text",
        "id": "Qo0M5vUqrLjl"
      },
      "source": [
        "## **Data Visualization**\n",
        "• *Виды жанров*<br/>"
      ]
    },
    {
      "cell_type": "code",
      "execution_count": 24,
      "metadata": {
        "colab": {
          "base_uri": "https://localhost:8080/",
          "height": 72
        },
        "colab_type": "code",
        "id": "ZvT8ANc_rUtV",
        "outputId": "2255cb4c-b8ea-472c-c842-85e7922b324b"
      },
      "outputs": [],
      "source": [
        "import matplotlib.pyplot as plt\n",
        "import seaborn as sns"
      ]
    },
    {
      "cell_type": "code",
      "execution_count": 25,
      "metadata": {
        "colab": {
          "base_uri": "https://localhost:8080/",
          "height": 34
        },
        "colab_type": "code",
        "id": "082sweYEr-E9",
        "outputId": "b0e65929-a417-408f-be96-dd967693ef43"
      },
      "outputs": [
        {
          "name": "stdout",
          "output_type": "stream",
          "text": [
            "Общее количество уникальных жанров: 363\n"
          ]
        }
      ],
      "source": [
        "# Calculating unique genres\n",
        "all_genres = list()\n",
        "temp = list()\n",
        "\n",
        "def total_unique_genre(x):\n",
        "  global all_genre, temp\n",
        "  x = x.reset_index()\n",
        "  for i in range(0, x.shape[0]):\n",
        "    temp = temp + x.iloc[i, 1]\n",
        "\n",
        "  all_genre = set(temp)\n",
        "  return len(all_genre)\n",
        "\n",
        "print('Общее количество уникальных жанров: {}'.format(total_unique_genre(df['genre'])))"
      ]
    },
    {
      "cell_type": "code",
      "execution_count": 26,
      "metadata": {
        "colab": {},
        "colab_type": "code",
        "id": "iH2qhIEWMPAq"
      },
      "outputs": [],
      "source": [
        "from nltk.probability import FreqDist\n",
        "temp_with_count = FreqDist(temp)\n",
        "\n",
        "# Creating a dataframe of genre_count\n",
        "df_genre_count = pd.DataFrame({'Genre': list(temp_with_count.keys()),\n",
        "                               'Count': list(temp_with_count.values())})"
      ]
    },
    {
      "cell_type": "code",
      "execution_count": 27,
      "metadata": {
        "colab": {
          "base_uri": "https://localhost:8080/",
          "height": 894
        },
        "colab_type": "code",
        "id": "Ecd6oD-tZedw",
        "outputId": "200d0883-d176-481c-92d5-dd747e6f70c6"
      },
      "outputs": [
        {
          "data": {
            "text/plain": [
              "Text(0, 0.5, 'Genres')"
            ]
          },
          "execution_count": 27,
          "metadata": {},
          "output_type": "execute_result"
        },
        {
          "data": {
            "image/png": "[encoded data removed]",
            "text/plain": [
              "<Figure size 700x1500 with 1 Axes>"
            ]
          },
          "metadata": {},
          "output_type": "display_data"
        }
      ],
      "source": [
        "# Plotting the top 50 genres\n",
        "genre_top_50 = df_genre_count.sort_values(by=['Count'], ascending=False).iloc[0:50, :]\n",
        "plt.figure(figsize=(7,15))\n",
        "sns.barplot(x='Count', y='Genre', data=genre_top_50)\n",
        "plt.xlabel('Frequency Count')\n",
        "plt.ylabel('Genres')"
      ]
    },
    {
      "cell_type": "markdown",
      "metadata": {
        "colab_type": "text",
        "id": "6VtTvySdeE8u"
      },
      "source": [
        "## **Data Preprocessing**\n",
        "* Очистить краткое содержание\n",
        "* Удалить стоп-слова\n",
        "* Применить стемминг к краткому содержанию\n",
        "* Преобразовать жанры в целевые переменные с помощью MultiLabelBinarizer\n",
        "* Разделить набор данных на обучающую и тестовую выборки\n",
        "* Создать признаки из корпуса с использованием TfidfVectorizer"
      ]
    },
    {
      "cell_type": "code",
      "execution_count": 28,
      "metadata": {
        "colab": {
          "base_uri": "https://localhost:8080/",
          "height": 52
        },
        "colab_type": "code",
        "id": "kpowCVeoaBu9",
        "outputId": "8fcd02c2-e399-49c5-e821-790a455d5ea7"
      },
      "outputs": [
        {
          "name": "stderr",
          "output_type": "stream",
          "text": [
            "[nltk_data] Downloading package stopwords to\n",
            "[nltk_data]     /Users/mukhamejankaratyev/nltk_data...\n",
            "[nltk_data]   Package stopwords is already up-to-date!\n"
          ]
        }
      ],
      "source": [
        "import re\n",
        "import nltk\n",
        "nltk.download('stopwords')\n",
        "from nltk.corpus import stopwords\n",
        "from nltk.stem import PorterStemmer"
      ]
    },
    {
      "cell_type": "code",
      "execution_count": 29,
      "metadata": {
        "colab": {},
        "colab_type": "code",
        "id": "sQzUvCFHr9S5"
      },
      "outputs": [],
      "source": [
        "def plot_clean(text):\n",
        "  text = re.sub(pattern='[^a-zA-Z]', repl=' ', string=text)\n",
        "  text = text.lower()\n",
        "  text = ' '.join(text.split())\n",
        "  return text"
      ]
    },
    {
      "cell_type": "code",
      "execution_count": 31,
      "metadata": {
        "colab": {
          "base_uri": "https://localhost:8080/",
          "height": 197
        },
        "colab_type": "code",
        "id": "lsNdu2oCvlIR",
        "outputId": "b1fc483b-8c66-4cbd-8ed3-b2cd182431c4"
      },
      "outputs": [
        {
          "data": {
            "text/html": [
              "<div>\n",
              "<style scoped>\n",
              "    .dataframe tbody tr th:only-of-type {\n",
              "        vertical-align: middle;\n",
              "    }\n",
              "\n",
              "    .dataframe tbody tr th {\n",
              "        vertical-align: top;\n",
              "    }\n",
              "\n",
              "    .dataframe thead th {\n",
              "        text-align: right;\n",
              "    }\n",
              "</style>\n",
              "<table border=\"1\" class=\"dataframe\">\n",
              "  <thead>\n",
              "    <tr style=\"text-align: right;\">\n",
              "      <th></th>\n",
              "      <th>plot</th>\n",
              "      <th>clean_plot</th>\n",
              "    </tr>\n",
              "  </thead>\n",
              "  <tbody>\n",
              "    <tr>\n",
              "      <th>0</th>\n",
              "      <td>Set in the second half of the 22nd century, th...</td>\n",
              "      <td>set in the second half of the nd century the f...</td>\n",
              "    </tr>\n",
              "    <tr>\n",
              "      <th>1</th>\n",
              "      <td>A series of murders of rich young women throug...</td>\n",
              "      <td>a series of murders of rich young women throug...</td>\n",
              "    </tr>\n",
              "    <tr>\n",
              "      <th>2</th>\n",
              "      <td>Eva, an upper class housewife, becomes frustra...</td>\n",
              "      <td>eva an upper class housewife becomes frustrate...</td>\n",
              "    </tr>\n",
              "    <tr>\n",
              "      <th>3</th>\n",
              "      <td>Every hundred years, the evil Morgana  returns...</td>\n",
              "      <td>every hundred years the evil morgana returns t...</td>\n",
              "    </tr>\n",
              "    <tr>\n",
              "      <th>4</th>\n",
              "      <td>Adam, a San Francisco-based artist who works a...</td>\n",
              "      <td>adam a san francisco based artist who works as...</td>\n",
              "    </tr>\n",
              "  </tbody>\n",
              "</table>\n",
              "</div>"
            ],
            "text/plain": [
              "                                                plot  \\\n",
              "0  Set in the second half of the 22nd century, th...   \n",
              "1  A series of murders of rich young women throug...   \n",
              "2  Eva, an upper class housewife, becomes frustra...   \n",
              "3  Every hundred years, the evil Morgana  returns...   \n",
              "4  Adam, a San Francisco-based artist who works a...   \n",
              "\n",
              "                                          clean_plot  \n",
              "0  set in the second half of the nd century the f...  \n",
              "1  a series of murders of rich young women throug...  \n",
              "2  eva an upper class housewife becomes frustrate...  \n",
              "3  every hundred years the evil morgana returns t...  \n",
              "4  adam a san francisco based artist who works as...  "
            ]
          },
          "execution_count": 31,
          "metadata": {},
          "output_type": "execute_result"
        }
      ],
      "source": [
        "df['clean_plot'] = df['plot'].apply(lambda x: plot_clean(x))\n",
        "df[['plot', 'clean_plot']].head()"
      ]
    },
    {
      "cell_type": "code",
      "execution_count": 32,
      "metadata": {
        "colab": {},
        "colab_type": "code",
        "id": "jeXYSQkwK3TJ"
      },
      "outputs": [],
      "source": [
        "stopwords_set = set(stopwords.words('english'))\n",
        "\n",
        "def plot_stopwords(text):\n",
        "  words = text.split()\n",
        "  words = [word for word in words if not word in stopwords_set]\n",
        "  text = ' '.join(words)\n",
        "  return text"
      ]
    },
    {
      "cell_type": "code",
      "execution_count": 33,
      "metadata": {
        "colab": {
          "base_uri": "https://localhost:8080/",
          "height": 197
        },
        "colab_type": "code",
        "id": "ImHqKMPaMrkJ",
        "outputId": "9a72eae5-987b-4d50-c970-78ba5953323e"
      },
      "outputs": [
        {
          "data": {
            "text/html": [
              "<div>\n",
              "<style scoped>\n",
              "    .dataframe tbody tr th:only-of-type {\n",
              "        vertical-align: middle;\n",
              "    }\n",
              "\n",
              "    .dataframe tbody tr th {\n",
              "        vertical-align: top;\n",
              "    }\n",
              "\n",
              "    .dataframe thead th {\n",
              "        text-align: right;\n",
              "    }\n",
              "</style>\n",
              "<table border=\"1\" class=\"dataframe\">\n",
              "  <thead>\n",
              "    <tr style=\"text-align: right;\">\n",
              "      <th></th>\n",
              "      <th>clean_plot</th>\n",
              "      <th>clean_noStopword_plot</th>\n",
              "    </tr>\n",
              "  </thead>\n",
              "  <tbody>\n",
              "    <tr>\n",
              "      <th>0</th>\n",
              "      <td>set in the second half of the nd century the f...</td>\n",
              "      <td>set second half nd century film depicts mars p...</td>\n",
              "    </tr>\n",
              "    <tr>\n",
              "      <th>1</th>\n",
              "      <td>a series of murders of rich young women throug...</td>\n",
              "      <td>series murders rich young women throughout ari...</td>\n",
              "    </tr>\n",
              "    <tr>\n",
              "      <th>2</th>\n",
              "      <td>eva an upper class housewife becomes frustrate...</td>\n",
              "      <td>eva upper class housewife becomes frustrated l...</td>\n",
              "    </tr>\n",
              "    <tr>\n",
              "      <th>3</th>\n",
              "      <td>every hundred years the evil morgana returns t...</td>\n",
              "      <td>every hundred years evil morgana returns claim...</td>\n",
              "    </tr>\n",
              "    <tr>\n",
              "      <th>4</th>\n",
              "      <td>adam a san francisco based artist who works as...</td>\n",
              "      <td>adam san francisco based artist works cab driv...</td>\n",
              "    </tr>\n",
              "  </tbody>\n",
              "</table>\n",
              "</div>"
            ],
            "text/plain": [
              "                                          clean_plot  \\\n",
              "0  set in the second half of the nd century the f...   \n",
              "1  a series of murders of rich young women throug...   \n",
              "2  eva an upper class housewife becomes frustrate...   \n",
              "3  every hundred years the evil morgana returns t...   \n",
              "4  adam a san francisco based artist who works as...   \n",
              "\n",
              "                               clean_noStopword_plot  \n",
              "0  set second half nd century film depicts mars p...  \n",
              "1  series murders rich young women throughout ari...  \n",
              "2  eva upper class housewife becomes frustrated l...  \n",
              "3  every hundred years evil morgana returns claim...  \n",
              "4  adam san francisco based artist works cab driv...  "
            ]
          },
          "execution_count": 33,
          "metadata": {},
          "output_type": "execute_result"
        }
      ],
      "source": [
        "df['clean_noStopword_plot'] = df['clean_plot'].apply(lambda x: plot_stopwords(x))\n",
        "df[['clean_plot', 'clean_noStopword_plot']].head()"
      ]
    },
    {
      "cell_type": "code",
      "execution_count": 35,
      "metadata": {
        "colab": {},
        "colab_type": "code",
        "id": "5XMD5VPqKNro"
      },
      "outputs": [],
      "source": [
        "ps = PorterStemmer()\n",
        "\n",
        "def plot_stemming(text):\n",
        "  words = text.split()\n",
        "  words = [ps.stem(word) for word in words]\n",
        "  text = ' '.join(words)\n",
        "  return text"
      ]
    },
    {
      "cell_type": "code",
      "execution_count": 36,
      "metadata": {
        "colab": {
          "base_uri": "https://localhost:8080/",
          "height": 197
        },
        "colab_type": "code",
        "id": "swT1CcEoNMNs",
        "outputId": "d7159d6a-fcf7-4d72-9f60-bf1905286061"
      },
      "outputs": [
        {
          "data": {
            "text/html": [
              "<div>\n",
              "<style scoped>\n",
              "    .dataframe tbody tr th:only-of-type {\n",
              "        vertical-align: middle;\n",
              "    }\n",
              "\n",
              "    .dataframe tbody tr th {\n",
              "        vertical-align: top;\n",
              "    }\n",
              "\n",
              "    .dataframe thead th {\n",
              "        text-align: right;\n",
              "    }\n",
              "</style>\n",
              "<table border=\"1\" class=\"dataframe\">\n",
              "  <thead>\n",
              "    <tr style=\"text-align: right;\">\n",
              "      <th></th>\n",
              "      <th>clean_noStopword_plot</th>\n",
              "      <th>clean_noStopword_stem_plot</th>\n",
              "    </tr>\n",
              "  </thead>\n",
              "  <tbody>\n",
              "    <tr>\n",
              "      <th>0</th>\n",
              "      <td>set second half nd century film depicts mars p...</td>\n",
              "      <td>set second half nd centuri film depict mar pla...</td>\n",
              "    </tr>\n",
              "    <tr>\n",
              "      <th>1</th>\n",
              "      <td>series murders rich young women throughout ari...</td>\n",
              "      <td>seri murder rich young women throughout arizon...</td>\n",
              "    </tr>\n",
              "    <tr>\n",
              "      <th>2</th>\n",
              "      <td>eva upper class housewife becomes frustrated l...</td>\n",
              "      <td>eva upper class housewif becom frustrat leav a...</td>\n",
              "    </tr>\n",
              "    <tr>\n",
              "      <th>3</th>\n",
              "      <td>every hundred years evil morgana returns claim...</td>\n",
              "      <td>everi hundr year evil morgana return claim fin...</td>\n",
              "    </tr>\n",
              "    <tr>\n",
              "      <th>4</th>\n",
              "      <td>adam san francisco based artist works cab driv...</td>\n",
              "      <td>adam san francisco base artist work cab driver...</td>\n",
              "    </tr>\n",
              "  </tbody>\n",
              "</table>\n",
              "</div>"
            ],
            "text/plain": [
              "                               clean_noStopword_plot  \\\n",
              "0  set second half nd century film depicts mars p...   \n",
              "1  series murders rich young women throughout ari...   \n",
              "2  eva upper class housewife becomes frustrated l...   \n",
              "3  every hundred years evil morgana returns claim...   \n",
              "4  adam san francisco based artist works cab driv...   \n",
              "\n",
              "                          clean_noStopword_stem_plot  \n",
              "0  set second half nd centuri film depict mar pla...  \n",
              "1  seri murder rich young women throughout arizon...  \n",
              "2  eva upper class housewif becom frustrat leav a...  \n",
              "3  everi hundr year evil morgana return claim fin...  \n",
              "4  adam san francisco base artist work cab driver...  "
            ]
          },
          "execution_count": 36,
          "metadata": {},
          "output_type": "execute_result"
        }
      ],
      "source": [
        "df['clean_noStopword_stem_plot'] = df['clean_noStopword_plot'].apply(lambda x: plot_stemming(x))\n",
        "df[['clean_noStopword_plot', 'clean_noStopword_stem_plot']].head()"
      ]
    },
    {
      "cell_type": "code",
      "execution_count": 37,
      "metadata": {
        "colab": {},
        "colab_type": "code",
        "id": "tFpL89JzcEJe"
      },
      "outputs": [],
      "source": [
        "from sklearn.preprocessing import MultiLabelBinarizer\n",
        "mlb = MultiLabelBinarizer()\n",
        "y = mlb.fit_transform(df['genre'])"
      ]
    },
    {
      "cell_type": "code",
      "execution_count": 41,
      "metadata": {},
      "outputs": [
        {
          "data": {
            "text/plain": [
              "array([0, 0, 1, 0, 0, 1, 0, 0, 0, 0, 0, 0, 0, 0, 0, 0, 0, 0, 0, 0, 0, 0,\n",
              "       0, 0, 0, 0, 0, 0, 0, 0, 0, 0, 0, 0, 0, 0, 0, 0, 0, 0, 0, 0, 0, 0,\n",
              "       0, 0, 0, 0, 0, 0, 0, 0, 0, 0, 0, 0, 0, 0, 0, 0, 0, 0, 0, 0, 0, 0,\n",
              "       0, 0, 0, 0, 0, 0, 0, 0, 0, 0, 0, 0, 0, 0, 0, 0, 0, 0, 0, 0, 0, 0,\n",
              "       0, 0, 0, 0, 0, 0, 0, 0, 0, 0, 0, 0, 0, 0, 0, 0, 0, 0, 0, 0, 0, 0,\n",
              "       0, 0, 0, 0, 0, 0, 0, 0, 0, 0, 0, 0, 0, 0, 0, 0, 0, 0, 0, 0, 0, 0,\n",
              "       0, 0, 0, 0, 0, 0, 0, 0, 0, 0, 0, 0, 0, 0, 0, 0, 0, 0, 0, 0, 0, 0,\n",
              "       0, 0, 0, 0, 0, 0, 0, 0, 0, 0, 0, 0, 0, 0, 0, 0, 0, 0, 0, 0, 0, 0,\n",
              "       0, 0, 0, 0, 0, 0, 0, 0, 0, 0, 0, 0, 0, 0, 0, 0, 0, 0, 0, 0, 0, 0,\n",
              "       0, 0, 0, 0, 0, 0, 0, 0, 0, 0, 0, 0, 0, 0, 0, 0, 0, 0, 0, 0, 0, 0,\n",
              "       0, 0, 0, 0, 0, 0, 0, 0, 0, 0, 0, 0, 0, 0, 0, 0, 0, 0, 0, 0, 0, 0,\n",
              "       0, 0, 0, 0, 0, 0, 0, 0, 0, 0, 0, 0, 0, 0, 0, 0, 0, 0, 0, 0, 0, 0,\n",
              "       0, 0, 0, 0, 0, 0, 0, 0, 0, 0, 0, 0, 0, 0, 0, 0, 0, 0, 1, 0, 0, 0,\n",
              "       0, 0, 0, 0, 0, 0, 0, 0, 0, 0, 0, 0, 0, 0, 0, 0, 0, 0, 0, 0, 0, 0,\n",
              "       0, 0, 0, 0, 0, 0, 0, 0, 0, 0, 0, 0, 0, 0, 0, 0, 0, 0, 0, 0, 0, 0,\n",
              "       0, 0, 0, 0, 0, 0, 0, 0, 0, 0, 0, 0, 0, 0, 0, 0, 0, 0, 0, 0, 0, 0,\n",
              "       0, 0, 1, 0, 0, 0, 0, 0, 0, 0, 0])"
            ]
          },
          "execution_count": 41,
          "metadata": {},
          "output_type": "execute_result"
        }
      ],
      "source": [
        "y[3345:23534][0]"
      ]
    },
    {
      "cell_type": "code",
      "execution_count": 42,
      "metadata": {
        "colab": {},
        "colab_type": "code",
        "id": "2I2N4f8djdUb"
      },
      "outputs": [],
      "source": [
        "X = df['clean_noStopword_stem_plot']"
      ]
    },
    {
      "cell_type": "code",
      "execution_count": 43,
      "metadata": {
        "colab": {},
        "colab_type": "code",
        "id": "b51nZZsDi4YF"
      },
      "outputs": [],
      "source": [
        "from sklearn.model_selection import train_test_split\n",
        "X_train, X_test, y_train, y_test = train_test_split(X, y, test_size=0.20, random_state=0)"
      ]
    },
    {
      "cell_type": "code",
      "execution_count": 44,
      "metadata": {
        "colab": {},
        "colab_type": "code",
        "id": "tYcoSeSzjxAL"
      },
      "outputs": [],
      "source": [
        "from sklearn.feature_extraction.text import TfidfVectorizer\n",
        "tfidf = TfidfVectorizer(max_df=0.8, max_features=10000)\n",
        "X_train = tfidf.fit_transform(X_train)\n",
        "X_test = tfidf.transform(X_test)"
      ]
    },
    {
      "cell_type": "code",
      "execution_count": 45,
      "metadata": {},
      "outputs": [
        {
          "data": {
            "text/plain": [
              "<33434x10000 sparse matrix of type '<class 'numpy.float64'>'\n",
              "\twith 3488156 stored elements in Compressed Sparse Row format>"
            ]
          },
          "execution_count": 45,
          "metadata": {},
          "output_type": "execute_result"
        }
      ],
      "source": [
        "X_train"
      ]
    },
    {
      "cell_type": "markdown",
      "metadata": {
        "colab_type": "text",
        "id": "gRKMvDfEljVs"
      },
      "source": [
        "## **Model Building**"
      ]
    },
    {
      "cell_type": "code",
      "execution_count": 48,
      "metadata": {
        "colab": {},
        "colab_type": "code",
        "id": "_AWTj2PGkxRj"
      },
      "outputs": [],
      "source": [
        "# Logistic Regression Model\n",
        "from sklearn.linear_model import LogisticRegression\n",
        "from sklearn.multiclass import OneVsRestClassifier"
      ]
    },
    {
      "cell_type": "code",
      "execution_count": 46,
      "metadata": {},
      "outputs": [],
      "source": [
        "# A, B, C\n",
        "# ([A, (B, C)], [B, (A, C)], [C, (A, B)]\n",
        "# [0,4, 0,5, 0,8]\n",
        "# Result => C"
      ]
    },
    {
      "cell_type": "code",
      "execution_count": 49,
      "metadata": {
        "colab": {},
        "colab_type": "code",
        "id": "Ymbw0NARmcR9"
      },
      "outputs": [],
      "source": [
        "lr = LogisticRegression()\n",
        "ovr_clf = OneVsRestClassifier(lr)"
      ]
    },
    {
      "cell_type": "code",
      "execution_count": 50,
      "metadata": {
        "colab": {
          "base_uri": "https://localhost:8080/",
          "height": 407
        },
        "colab_type": "code",
        "id": "CVDc8XX0mkT9",
        "outputId": "d17e158e-29cd-44ec-8249-590bc276b762"
      },
      "outputs": [
        {
          "name": "stderr",
          "output_type": "stream",
          "text": [
            "/Users/mukhamejankaratyev/anaconda3/envs/churn_prediction_env/lib/python3.10/site-packages/sklearn/multiclass.py:77: UserWarning: Label not 48 is present in all training examples.\n",
            "  warnings.warn(\n",
            "/Users/mukhamejankaratyev/anaconda3/envs/churn_prediction_env/lib/python3.10/site-packages/sklearn/linear_model/_logistic.py:458: ConvergenceWarning: lbfgs failed to converge (status=1):\n",
            "STOP: TOTAL NO. of ITERATIONS REACHED LIMIT.\n",
            "\n",
            "Increase the number of iterations (max_iter) or scale the data as shown in:\n",
            "    https://scikit-learn.org/stable/modules/preprocessing.html\n",
            "Please also refer to the documentation for alternative solver options:\n",
            "    https://scikit-learn.org/stable/modules/linear_model.html#logistic-regression\n",
            "  n_iter_i = _check_optimize_result(\n",
            "/Users/mukhamejankaratyev/anaconda3/envs/churn_prediction_env/lib/python3.10/site-packages/sklearn/multiclass.py:77: UserWarning: Label not 243 is present in all training examples.\n",
            "  warnings.warn(\n"
          ]
        },
        {
          "data": {
            "text/html": [
              "<style>#sk-container-id-1 {color: black;background-color: white;}#sk-container-id-1 pre{padding: 0;}#sk-container-id-1 div.sk-toggleable {background-color: white;}#sk-container-id-1 label.sk-toggleable__label {cursor: pointer;display: block;width: 100%;margin-bottom: 0;padding: 0.3em;box-sizing: border-box;text-align: center;}#sk-container-id-1 label.sk-toggleable__label-arrow:before {content: \"▸\";float: left;margin-right: 0.25em;color: #696969;}#sk-container-id-1 label.sk-toggleable__label-arrow:hover:before {color: black;}#sk-container-id-1 div.sk-estimator:hover label.sk-toggleable__label-arrow:before {color: black;}#sk-container-id-1 div.sk-toggleable__content {max-height: 0;max-width: 0;overflow: hidden;text-align: left;background-color: #f0f8ff;}#sk-container-id-1 div.sk-toggleable__content pre {margin: 0.2em;color: black;border-radius: 0.25em;background-color: #f0f8ff;}#sk-container-id-1 input.sk-toggleable__control:checked~div.sk-toggleable__content {max-height: 200px;max-width: 100%;overflow: auto;}#sk-container-id-1 input.sk-toggleable__control:checked~label.sk-toggleable__label-arrow:before {content: \"▾\";}#sk-container-id-1 div.sk-estimator input.sk-toggleable__control:checked~label.sk-toggleable__label {background-color: #d4ebff;}#sk-container-id-1 div.sk-label input.sk-toggleable__control:checked~label.sk-toggleable__label {background-color: #d4ebff;}#sk-container-id-1 input.sk-hidden--visually {border: 0;clip: rect(1px 1px 1px 1px);clip: rect(1px, 1px, 1px, 1px);height: 1px;margin: -1px;overflow: hidden;padding: 0;position: absolute;width: 1px;}#sk-container-id-1 div.sk-estimator {font-family: monospace;background-color: #f0f8ff;border: 1px dotted black;border-radius: 0.25em;box-sizing: border-box;margin-bottom: 0.5em;}#sk-container-id-1 div.sk-estimator:hover {background-color: #d4ebff;}#sk-container-id-1 div.sk-parallel-item::after {content: \"\";width: 100%;border-bottom: 1px solid gray;flex-grow: 1;}#sk-container-id-1 div.sk-label:hover label.sk-toggleable__label {background-color: #d4ebff;}#sk-container-id-1 div.sk-serial::before {content: \"\";position: absolute;border-left: 1px solid gray;box-sizing: border-box;top: 0;bottom: 0;left: 50%;z-index: 0;}#sk-container-id-1 div.sk-serial {display: flex;flex-direction: column;align-items: center;background-color: white;padding-right: 0.2em;padding-left: 0.2em;position: relative;}#sk-container-id-1 div.sk-item {position: relative;z-index: 1;}#sk-container-id-1 div.sk-parallel {display: flex;align-items: stretch;justify-content: center;background-color: white;position: relative;}#sk-container-id-1 div.sk-item::before, #sk-container-id-1 div.sk-parallel-item::before {content: \"\";position: absolute;border-left: 1px solid gray;box-sizing: border-box;top: 0;bottom: 0;left: 50%;z-index: -1;}#sk-container-id-1 div.sk-parallel-item {display: flex;flex-direction: column;z-index: 1;position: relative;background-color: white;}#sk-container-id-1 div.sk-parallel-item:first-child::after {align-self: flex-end;width: 50%;}#sk-container-id-1 div.sk-parallel-item:last-child::after {align-self: flex-start;width: 50%;}#sk-container-id-1 div.sk-parallel-item:only-child::after {width: 0;}#sk-container-id-1 div.sk-dashed-wrapped {border: 1px dashed gray;margin: 0 0.4em 0.5em 0.4em;box-sizing: border-box;padding-bottom: 0.4em;background-color: white;}#sk-container-id-1 div.sk-label label {font-family: monospace;font-weight: bold;display: inline-block;line-height: 1.2em;}#sk-container-id-1 div.sk-label-container {text-align: center;}#sk-container-id-1 div.sk-container {/* jupyter's `normalize.less` sets `[hidden] { display: none; }` but bootstrap.min.css set `[hidden] { display: none !important; }` so we also need the `!important` here to be able to override the default hidden behavior on the sphinx rendered scikit-learn.org. See: https://github.com/scikit-learn/scikit-learn/issues/21755 */display: inline-block !important;position: relative;}#sk-container-id-1 div.sk-text-repr-fallback {display: none;}</style><div id=\"sk-container-id-1\" class=\"sk-top-container\"><div class=\"sk-text-repr-fallback\"><pre>OneVsRestClassifier(estimator=LogisticRegression())</pre><b>In a Jupyter environment, please rerun this cell to show the HTML representation or trust the notebook. <br />On GitHub, the HTML representation is unable to render, please try loading this page with nbviewer.org.</b></div><div class=\"sk-container\" hidden><div class=\"sk-item sk-dashed-wrapped\"><div class=\"sk-label-container\"><div class=\"sk-label sk-toggleable\"><input class=\"sk-toggleable__control sk-hidden--visually\" id=\"sk-estimator-id-1\" type=\"checkbox\" ><label for=\"sk-estimator-id-1\" class=\"sk-toggleable__label sk-toggleable__label-arrow\">OneVsRestClassifier</label><div class=\"sk-toggleable__content\"><pre>OneVsRestClassifier(estimator=LogisticRegression())</pre></div></div></div><div class=\"sk-parallel\"><div class=\"sk-parallel-item\"><div class=\"sk-item\"><div class=\"sk-label-container\"><div class=\"sk-label sk-toggleable\"><input class=\"sk-toggleable__control sk-hidden--visually\" id=\"sk-estimator-id-2\" type=\"checkbox\" ><label for=\"sk-estimator-id-2\" class=\"sk-toggleable__label sk-toggleable__label-arrow\">estimator: LogisticRegression</label><div class=\"sk-toggleable__content\"><pre>LogisticRegression()</pre></div></div></div><div class=\"sk-serial\"><div class=\"sk-item\"><div class=\"sk-estimator sk-toggleable\"><input class=\"sk-toggleable__control sk-hidden--visually\" id=\"sk-estimator-id-3\" type=\"checkbox\" ><label for=\"sk-estimator-id-3\" class=\"sk-toggleable__label sk-toggleable__label-arrow\">LogisticRegression</label><div class=\"sk-toggleable__content\"><pre>LogisticRegression()</pre></div></div></div></div></div></div></div></div></div></div>"
            ],
            "text/plain": [
              "OneVsRestClassifier(estimator=LogisticRegression())"
            ]
          },
          "execution_count": 50,
          "metadata": {},
          "output_type": "execute_result"
        }
      ],
      "source": [
        "ovr_clf.fit(X_train, y_train)"
      ]
    },
    {
      "cell_type": "code",
      "execution_count": 51,
      "metadata": {
        "colab": {
          "base_uri": "https://localhost:8080/",
          "height": 318
        },
        "colab_type": "code",
        "id": "7acxFd3QnpSb",
        "outputId": "3c01daba-2620-4cc0-e6dc-652696aa937c"
      },
      "outputs": [
        {
          "data": {
            "text/plain": [
              "array([0, 0, 0, 0, 0, 0, 0, 0, 0, 0, 0, 0, 0, 0, 0, 0, 0, 0, 0, 0, 0, 0,\n",
              "       0, 0, 0, 0, 0, 0, 0, 0, 0, 0, 0, 0, 0, 0, 0, 0, 0, 0, 0, 0, 0, 0,\n",
              "       0, 0, 0, 0, 0, 0, 0, 0, 0, 0, 0, 0, 0, 0, 0, 0, 0, 0, 0, 0, 0, 0,\n",
              "       0, 0, 0, 0, 0, 0, 0, 0, 0, 0, 0, 0, 0, 0, 0, 0, 0, 0, 0, 0, 0, 0,\n",
              "       0, 0, 0, 0, 0, 0, 0, 0, 0, 0, 0, 0, 0, 0, 0, 0, 0, 0, 0, 0, 0, 0,\n",
              "       0, 0, 0, 0, 1, 0, 0, 0, 0, 0, 0, 0, 0, 0, 0, 0, 0, 0, 0, 0, 0, 0,\n",
              "       0, 0, 0, 0, 0, 0, 0, 0, 0, 0, 0, 0, 0, 0, 0, 0, 0, 0, 0, 0, 0, 0,\n",
              "       0, 0, 0, 0, 0, 0, 0, 0, 0, 0, 0, 0, 0, 0, 0, 0, 0, 0, 0, 0, 0, 0,\n",
              "       0, 0, 0, 0, 0, 0, 0, 0, 0, 0, 0, 0, 0, 0, 0, 0, 0, 0, 0, 0, 0, 0,\n",
              "       0, 0, 0, 0, 0, 0, 0, 0, 0, 0, 0, 0, 0, 0, 0, 0, 0, 0, 0, 0, 0, 0,\n",
              "       0, 0, 0, 0, 0, 0, 0, 0, 0, 0, 0, 0, 0, 0, 0, 0, 0, 0, 0, 0, 0, 0,\n",
              "       0, 0, 0, 0, 0, 0, 0, 0, 0, 0, 0, 0, 0, 0, 0, 0, 0, 0, 0, 0, 0, 0,\n",
              "       0, 0, 0, 0, 0, 0, 0, 0, 0, 0, 0, 0, 0, 0, 0, 0, 0, 0, 0, 0, 0, 0,\n",
              "       0, 0, 0, 0, 0, 0, 0, 0, 0, 0, 0, 0, 0, 0, 0, 0, 0, 0, 0, 0, 0, 0,\n",
              "       0, 0, 0, 0, 0, 0, 0, 0, 0, 0, 0, 0, 0, 0, 0, 0, 0, 0, 0, 0, 0, 0,\n",
              "       0, 0, 0, 0, 0, 0, 0, 0, 0, 0, 0, 0, 0, 0, 0, 0, 0, 0, 0, 0, 0, 0,\n",
              "       0, 0, 0, 0, 0, 0, 0, 0, 0, 0, 0])"
            ]
          },
          "execution_count": 51,
          "metadata": {},
          "output_type": "execute_result"
        }
      ],
      "source": [
        "y_pred_ovr = ovr_clf.predict(X_test)\n",
        "y_pred_ovr[5]"
      ]
    },
    {
      "cell_type": "code",
      "execution_count": 52,
      "metadata": {
        "colab": {
          "base_uri": "https://localhost:8080/",
          "height": 34
        },
        "colab_type": "code",
        "id": "YOrVdRd8npBz",
        "outputId": "2cb6de1c-8b1f-4e8d-934c-d4ad5b6133eb"
      },
      "outputs": [
        {
          "data": {
            "text/plain": [
              "('Drama',)"
            ]
          },
          "execution_count": 52,
          "metadata": {},
          "output_type": "execute_result"
        }
      ],
      "source": [
        "mlb.inverse_transform(y_pred_ovr)[5]"
      ]
    },
    {
      "cell_type": "code",
      "execution_count": 53,
      "metadata": {
        "colab": {
          "base_uri": "https://localhost:8080/",
          "height": 34
        },
        "colab_type": "code",
        "id": "kpbHdEOWpAQE",
        "outputId": "d91bf255-bebf-40af-d0fb-a90a802c1246"
      },
      "outputs": [
        {
          "name": "stdout",
          "output_type": "stream",
          "text": [
            "0.32450718555258806\n"
          ]
        }
      ],
      "source": [
        "from sklearn.metrics import f1_score\n",
        "print(f1_score(y_test, y_pred_ovr, average=\"micro\"))"
      ]
    },
    {
      "cell_type": "code",
      "execution_count": 54,
      "metadata": {
        "colab": {},
        "colab_type": "code",
        "id": "6RNldv87rcaa"
      },
      "outputs": [],
      "source": [
        "y_pred_prob = ovr_clf.predict_proba(X_test)\n",
        "y_pred_new = (y_pred_prob >= 0.2).astype(int)"
      ]
    },
    {
      "cell_type": "code",
      "execution_count": 55,
      "metadata": {
        "colab": {
          "base_uri": "https://localhost:8080/",
          "height": 34
        },
        "colab_type": "code",
        "id": "KvXkz9vesE76",
        "outputId": "8e786b91-2f5e-4bdd-a26e-48120143f65b"
      },
      "outputs": [
        {
          "data": {
            "text/plain": [
              "0.4735651445328865"
            ]
          },
          "execution_count": 55,
          "metadata": {},
          "output_type": "execute_result"
        }
      ],
      "source": [
        "f1_score(y_test, y_pred_new, average=\"micro\")"
      ]
    },
    {
      "cell_type": "markdown",
      "metadata": {
        "colab_type": "text",
        "id": "a-KEL6k8soCx"
      },
      "source": [
        "## **Predictions**"
      ]
    },
    {
      "cell_type": "code",
      "execution_count": 63,
      "metadata": {
        "colab": {},
        "colab_type": "code",
        "id": "KagFadgrsgWz"
      },
      "outputs": [],
      "source": [
        "def predict_genre_tags(text):\n",
        "    text = plot_clean(text)\n",
        "    text = plot_stopwords(text)\n",
        "    text = plot_stemming(text)\n",
        "    text_vec = tfidf.transform([text])\n",
        "    text_pred = ovr_clf.predict_proba(text_vec)\n",
        "    text_pred = (text_pred >= 0.2).astype(int)\n",
        "    return mlb.inverse_transform(text_pred)"
      ]
    },
    {
      "cell_type": "code",
      "execution_count": 57,
      "metadata": {
        "colab": {
          "base_uri": "https://localhost:8080/",
          "height": 70
        },
        "colab_type": "code",
        "id": "B6do1W2EtTpD",
        "outputId": "2cbd086f-2d25-416f-fbb3-e9aabedf1333"
      },
      "outputs": [
        {
          "name": "stdout",
          "output_type": "stream",
          "text": [
            "Movie: Titanic (1998)\n",
            "Predicted genres: ('Drama',)\n",
            "Actual genres: ['Drama', 'Romance']\n"
          ]
        }
      ],
      "source": [
        "# Prediction 1\n",
        "movie_name = 'Titanic (1998)'\n",
        "plot_summary = \"After winning a trip on the RMS Titanic during a dockside card game, American Jack Dawson spots the society girl Rose DeWitt Bukater who is on her way to Philadelphia to marry her rich snob fiancé Caledon Hockley. Rose feels helplessly trapped by her situation and makes her way to the aft deck and thinks of suicide until she is rescued by Jack. Cal is therefore obliged to invite Jack to dine at their first-class table where he suffers through the slights of his snobbish hosts. In return, he spirits Rose off to third-class for an evening of dancing, giving her the time of her life. Deciding to forsake her intended future all together, Rose asks Jack, who has made his living making sketches on the streets of Paris, to draw her in the nude wearing the invaluable blue diamond Cal has given her. Cal finds out and has Jack locked away. Soon afterwards, the ship hits an iceberg and Rose must find Jack while both must run from Cal even as the ship sinks deeper into the freezing water.\"\n",
        "actual_genre = ['Drama', 'Romance']\n",
        "predicted_genre = predict_genre_tags(plot_summary)\n",
        "print('Movie: {}\\nPredicted genres: {}\\nActual genres: {}'.format(movie_name, predicted_genre[0], actual_genre))"
      ]
    },
    {
      "cell_type": "code",
      "execution_count": 58,
      "metadata": {
        "colab": {
          "base_uri": "https://localhost:8080/",
          "height": 70
        },
        "colab_type": "code",
        "id": "3NcizAZ7uhr7",
        "outputId": "0215fb60-2a9e-4050-8bbc-fd5ee3557898"
      },
      "outputs": [
        {
          "name": "stdout",
          "output_type": "stream",
          "text": [
            "Movie: Avatar (2009)\n",
            "Predicted genres: ()\n",
            "Actual genres: ['Action', 'Adventure', 'Fantasy']\n"
          ]
        }
      ],
      "source": [
        "# Prediction 2\n",
        "movie_name = 'Avatar (2009)'\n",
        "plot_summary = \"On the lush alien world of Pandora live the Na'vi, beings who appear primitive but are highly evolved. Because the planet's environment is poisonous, human/Na'vi hybrids, called Avatars, must link to human minds to allow for free movement on Pandora. Jake Sully (Sam Worthington), a paralyzed former Marine, becomes mobile again through one such Avatar and falls in love with a Na'vi woman (Zoe Saldana). As a bond with her grows, he is drawn into a battle for the survival of her world.\"\n",
        "actual_genre = ['Action', 'Adventure', 'Fantasy']\n",
        "predicted_genre = predict_genre_tags(plot_summary)\n",
        "print('Movie: {}\\nPredicted genres: {}\\nActual genres: {}'.format(movie_name, predicted_genre[0], actual_genre))"
      ]
    },
    {
      "cell_type": "code",
      "execution_count": 59,
      "metadata": {
        "colab": {
          "base_uri": "https://localhost:8080/",
          "height": 70
        },
        "colab_type": "code",
        "id": "u9cLHG89FMDu",
        "outputId": "43b095d0-c8b7-490b-ed5b-acc9c7e314cc"
      },
      "outputs": [
        {
          "name": "stdout",
          "output_type": "stream",
          "text": [
            "Movie: Conjuring (2013)\n",
            "Predicted genres: ('Horror',)\n",
            "Actual genres: ['Horror', 'Thriller']\n"
          ]
        }
      ],
      "source": [
        "# Prediction 3\n",
        "movie_name = 'Conjuring (2013)'\n",
        "plot_summary = \"In 1971, Carolyn and Roger Perron move their family into a dilapidated Rhode Island farm house and soon strange things start happening around it with escalating nightmarish terror. In desperation, Carolyn contacts the noted paranormal investigators, Ed and Lorraine Warren, to examine the house. What the Warrens discover is a whole area steeped in a satanic haunting that is now targeting the Perron family wherever they go. To stop this evil, the Warrens will have to call upon all their skills and spiritual strength to defeat this spectral menace at its source that threatens to destroy everyone involved.\"\n",
        "actual_genre = ['Horror', 'Thriller']\n",
        "predicted_genre = predict_genre_tags(plot_summary)\n",
        "print('Movie: {}\\nPredicted genres: {}\\nActual genres: {}'.format(movie_name, predicted_genre[0], actual_genre))"
      ]
    },
    {
      "cell_type": "code",
      "execution_count": 60,
      "metadata": {
        "colab": {
          "base_uri": "https://localhost:8080/",
          "height": 70
        },
        "colab_type": "code",
        "id": "3hHb8WSeFRyf",
        "outputId": "03e64b76-f134-453a-ee83-74f0d3a3a94f"
      },
      "outputs": [
        {
          "name": "stdout",
          "output_type": "stream",
          "text": [
            "Movie: The Hangover (2009)\n",
            "Predicted genres: ('Comedy', 'Romance Film')\n",
            "Actual genres: ['Comedy']\n"
          ]
        }
      ],
      "source": [
        "# Prediction 4\n",
        "movie_name = 'The Hangover (2009)'\n",
        "plot_summary = \"Three buddies wake up from a bachelor party in Las Vegas, with no memory of the previous night and the bachelor missing. They make their way around the city in order to find their friend before his wedding.\"\n",
        "actual_genre = ['Comedy']\n",
        "predicted_genre = predict_genre_tags(plot_summary)\n",
        "print('Movie: {}\\nPredicted genres: {}\\nActual genres: {}'.format(movie_name, predicted_genre[0], actual_genre))"
      ]
    },
    {
      "cell_type": "code",
      "execution_count": 61,
      "metadata": {
        "colab": {
          "base_uri": "https://localhost:8080/",
          "height": 70
        },
        "colab_type": "code",
        "id": "amIn_dVjFMai",
        "outputId": "5aa67d4f-f953-4883-e3ae-405a8639cb3d"
      },
      "outputs": [
        {
          "name": "stdout",
          "output_type": "stream",
          "text": [
            "Movie: La La Land (2016)\n",
            "Predicted genres: ('Drama',)\n",
            "Actual genres: ['Comedy', 'Drama', 'Music']\n"
          ]
        }
      ],
      "source": [
        "# Prediction 5\n",
        "movie_name = 'La La Land (2016)'\n",
        "plot_summary = \"The story of aspiring actress Mia and dedicated jazz musician Sebastian, who struggle to make ends meet while pursuing their dreams in a city known for destroying hopes and breaking hearts. With modern-day Los Angeles as the backdrop, this musical about everyday life explores what more important: a once-in-a-lifetime love or the spotlight.\"\n",
        "actual_genre = ['Comedy', 'Drama', 'Music']\n",
        "predicted_genre = predict_genre_tags(plot_summary)\n",
        "print('Movie: {}\\nPredicted genres: {}\\nActual genres: {}'.format(movie_name, predicted_genre[0], actual_genre))"
      ]
    },
    {
      "cell_type": "code",
      "execution_count": 66,
      "metadata": {},
      "outputs": [
        {
          "name": "stdout",
          "output_type": "stream",
          "text": [
            "Movie: Oppenheimer\n",
            "Predicted genres: ('Black-and-white', 'Drama', 'Science Fiction')\n",
            "Actual genres: ['Comedy', 'Drama', 'Music']\n"
          ]
        }
      ],
      "source": [
        "movie_name = 'Oppenheimer'\n",
        "plot_summary = \"The story of American scientist, J. Robert Oppenheimer, and his role in the development of the atomic bomb.\"\n",
        "actual_genre = ['Comedy', 'Drama', 'Music']\n",
        "predicted_genre = predict_genre_tags(plot_summary)\n",
        "print('Movie: {}\\nPredicted genres: {}\\nActual genres: {}'.format(movie_name, predicted_genre[0], actual_genre))"
      ]
    },
    {
      "cell_type": "code",
      "execution_count": null,
      "metadata": {},
      "outputs": [],
      "source": []
    }
  ],
  "metadata": {
    "accelerator": "GPU",
    "colab": {
      "collapsed_sections": [],
      "name": "Movie Genre Classification.ipynb",
      "provenance": [],
      "toc_visible": true
    },
    "kernelspec": {
      "display_name": "Python 3",
      "name": "python3"
    },
    "language_info": {
      "codemirror_mode": {
        "name": "ipython",
        "version": 3
      },
      "file_extension": ".py",
      "mimetype": "text/x-python",
      "name": "python",
      "nbconvert_exporter": "python",
      "pygments_lexer": "ipython3",
      "version": "3.10.12"
    }
  },
  "nbformat": 4,
  "nbformat_minor": 0
}
